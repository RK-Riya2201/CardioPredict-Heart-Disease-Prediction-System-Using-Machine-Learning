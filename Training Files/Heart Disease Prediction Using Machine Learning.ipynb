{
 "cells": [
  {
   "cell_type": "markdown",
   "id": "15713beb-b791-4da7-a04d-43c35348cdbb",
   "metadata": {},
   "source": [
    "__Import Libraries__"
   ]
  },
  {
   "cell_type": "code",
   "execution_count": 1,
   "id": "919ff0d6-f9c4-49b4-8ce3-cb3afa7f1158",
   "metadata": {},
   "outputs": [],
   "source": [
    "import numpy as np\n",
    "import pandas as pd\n",
    "import matplotlib.pyplot as plt\n",
    "import seaborn as sns\n",
    "from matplotlib.colors import ListedColormap\n",
    "from sklearn.model_selection import train_test_split\n",
    "from scipy.stats import boxcox\n",
    "from sklearn.pipeline import Pipeline\n",
    "from sklearn.preprocessing import StandardScaler\n",
    "from sklearn.neighbors import KNeighborsClassifier\n",
    "from sklearn.svm import SVC\n",
    "from sklearn.model_selection import GridSearchCV,StratifiedKFold\n",
    "from sklearn.metrics import classification_report,accuracy_score\n",
    "from sklearn.tree import DecisionTreeClassifier\n",
    "from sklearn.ensemble import RandomForestClassifier\n",
    "\n",
    "%matplotlib inline"
   ]
  },
  {
   "cell_type": "markdown",
   "id": "3d73571f-15dc-4cc0-85a1-da0ae0160409",
   "metadata": {},
   "source": [
    "__Loaded Dataset__"
   ]
  },
  {
   "cell_type": "code",
   "execution_count": 2,
   "id": "b1bab899-3efa-464c-936c-f4c9bbfda721",
   "metadata": {},
   "outputs": [
    {
     "data": {
      "text/html": [
       "<div>\n",
       "<style scoped>\n",
       "    .dataframe tbody tr th:only-of-type {\n",
       "        vertical-align: middle;\n",
       "    }\n",
       "\n",
       "    .dataframe tbody tr th {\n",
       "        vertical-align: top;\n",
       "    }\n",
       "\n",
       "    .dataframe thead th {\n",
       "        text-align: right;\n",
       "    }\n",
       "</style>\n",
       "<table border=\"1\" class=\"dataframe\">\n",
       "  <thead>\n",
       "    <tr style=\"text-align: right;\">\n",
       "      <th></th>\n",
       "      <th>age</th>\n",
       "      <th>sex</th>\n",
       "      <th>cp</th>\n",
       "      <th>trestbps</th>\n",
       "      <th>chol</th>\n",
       "      <th>fbs</th>\n",
       "      <th>restecg</th>\n",
       "      <th>thalach</th>\n",
       "      <th>exang</th>\n",
       "      <th>oldpeak</th>\n",
       "      <th>slope</th>\n",
       "      <th>ca</th>\n",
       "      <th>thal</th>\n",
       "      <th>target</th>\n",
       "    </tr>\n",
       "  </thead>\n",
       "  <tbody>\n",
       "    <tr>\n",
       "      <th>0</th>\n",
       "      <td>63</td>\n",
       "      <td>1</td>\n",
       "      <td>3</td>\n",
       "      <td>145</td>\n",
       "      <td>233</td>\n",
       "      <td>1</td>\n",
       "      <td>0</td>\n",
       "      <td>150</td>\n",
       "      <td>0</td>\n",
       "      <td>2.3</td>\n",
       "      <td>0</td>\n",
       "      <td>0</td>\n",
       "      <td>1</td>\n",
       "      <td>1</td>\n",
       "    </tr>\n",
       "    <tr>\n",
       "      <th>1</th>\n",
       "      <td>37</td>\n",
       "      <td>1</td>\n",
       "      <td>2</td>\n",
       "      <td>130</td>\n",
       "      <td>250</td>\n",
       "      <td>0</td>\n",
       "      <td>1</td>\n",
       "      <td>187</td>\n",
       "      <td>0</td>\n",
       "      <td>3.5</td>\n",
       "      <td>0</td>\n",
       "      <td>0</td>\n",
       "      <td>2</td>\n",
       "      <td>1</td>\n",
       "    </tr>\n",
       "    <tr>\n",
       "      <th>2</th>\n",
       "      <td>41</td>\n",
       "      <td>0</td>\n",
       "      <td>1</td>\n",
       "      <td>130</td>\n",
       "      <td>204</td>\n",
       "      <td>0</td>\n",
       "      <td>0</td>\n",
       "      <td>172</td>\n",
       "      <td>0</td>\n",
       "      <td>1.4</td>\n",
       "      <td>2</td>\n",
       "      <td>0</td>\n",
       "      <td>2</td>\n",
       "      <td>1</td>\n",
       "    </tr>\n",
       "    <tr>\n",
       "      <th>3</th>\n",
       "      <td>56</td>\n",
       "      <td>1</td>\n",
       "      <td>1</td>\n",
       "      <td>120</td>\n",
       "      <td>236</td>\n",
       "      <td>0</td>\n",
       "      <td>1</td>\n",
       "      <td>178</td>\n",
       "      <td>0</td>\n",
       "      <td>0.8</td>\n",
       "      <td>2</td>\n",
       "      <td>0</td>\n",
       "      <td>2</td>\n",
       "      <td>1</td>\n",
       "    </tr>\n",
       "    <tr>\n",
       "      <th>4</th>\n",
       "      <td>57</td>\n",
       "      <td>0</td>\n",
       "      <td>0</td>\n",
       "      <td>120</td>\n",
       "      <td>354</td>\n",
       "      <td>0</td>\n",
       "      <td>1</td>\n",
       "      <td>163</td>\n",
       "      <td>1</td>\n",
       "      <td>0.6</td>\n",
       "      <td>2</td>\n",
       "      <td>0</td>\n",
       "      <td>2</td>\n",
       "      <td>1</td>\n",
       "    </tr>\n",
       "    <tr>\n",
       "      <th>...</th>\n",
       "      <td>...</td>\n",
       "      <td>...</td>\n",
       "      <td>...</td>\n",
       "      <td>...</td>\n",
       "      <td>...</td>\n",
       "      <td>...</td>\n",
       "      <td>...</td>\n",
       "      <td>...</td>\n",
       "      <td>...</td>\n",
       "      <td>...</td>\n",
       "      <td>...</td>\n",
       "      <td>...</td>\n",
       "      <td>...</td>\n",
       "      <td>...</td>\n",
       "    </tr>\n",
       "    <tr>\n",
       "      <th>298</th>\n",
       "      <td>57</td>\n",
       "      <td>0</td>\n",
       "      <td>0</td>\n",
       "      <td>140</td>\n",
       "      <td>241</td>\n",
       "      <td>0</td>\n",
       "      <td>1</td>\n",
       "      <td>123</td>\n",
       "      <td>1</td>\n",
       "      <td>0.2</td>\n",
       "      <td>1</td>\n",
       "      <td>0</td>\n",
       "      <td>3</td>\n",
       "      <td>0</td>\n",
       "    </tr>\n",
       "    <tr>\n",
       "      <th>299</th>\n",
       "      <td>45</td>\n",
       "      <td>1</td>\n",
       "      <td>3</td>\n",
       "      <td>110</td>\n",
       "      <td>264</td>\n",
       "      <td>0</td>\n",
       "      <td>1</td>\n",
       "      <td>132</td>\n",
       "      <td>0</td>\n",
       "      <td>1.2</td>\n",
       "      <td>1</td>\n",
       "      <td>0</td>\n",
       "      <td>3</td>\n",
       "      <td>0</td>\n",
       "    </tr>\n",
       "    <tr>\n",
       "      <th>300</th>\n",
       "      <td>68</td>\n",
       "      <td>1</td>\n",
       "      <td>0</td>\n",
       "      <td>144</td>\n",
       "      <td>193</td>\n",
       "      <td>1</td>\n",
       "      <td>1</td>\n",
       "      <td>141</td>\n",
       "      <td>0</td>\n",
       "      <td>3.4</td>\n",
       "      <td>1</td>\n",
       "      <td>2</td>\n",
       "      <td>3</td>\n",
       "      <td>0</td>\n",
       "    </tr>\n",
       "    <tr>\n",
       "      <th>301</th>\n",
       "      <td>57</td>\n",
       "      <td>1</td>\n",
       "      <td>0</td>\n",
       "      <td>130</td>\n",
       "      <td>131</td>\n",
       "      <td>0</td>\n",
       "      <td>1</td>\n",
       "      <td>115</td>\n",
       "      <td>1</td>\n",
       "      <td>1.2</td>\n",
       "      <td>1</td>\n",
       "      <td>1</td>\n",
       "      <td>3</td>\n",
       "      <td>0</td>\n",
       "    </tr>\n",
       "    <tr>\n",
       "      <th>302</th>\n",
       "      <td>57</td>\n",
       "      <td>0</td>\n",
       "      <td>1</td>\n",
       "      <td>130</td>\n",
       "      <td>236</td>\n",
       "      <td>0</td>\n",
       "      <td>0</td>\n",
       "      <td>174</td>\n",
       "      <td>0</td>\n",
       "      <td>0.0</td>\n",
       "      <td>1</td>\n",
       "      <td>1</td>\n",
       "      <td>2</td>\n",
       "      <td>0</td>\n",
       "    </tr>\n",
       "  </tbody>\n",
       "</table>\n",
       "<p>303 rows × 14 columns</p>\n",
       "</div>"
      ],
      "text/plain": [
       "     age  sex  cp  trestbps  chol  fbs  restecg  thalach  exang  oldpeak  \\\n",
       "0     63    1   3       145   233    1        0      150      0      2.3   \n",
       "1     37    1   2       130   250    0        1      187      0      3.5   \n",
       "2     41    0   1       130   204    0        0      172      0      1.4   \n",
       "3     56    1   1       120   236    0        1      178      0      0.8   \n",
       "4     57    0   0       120   354    0        1      163      1      0.6   \n",
       "..   ...  ...  ..       ...   ...  ...      ...      ...    ...      ...   \n",
       "298   57    0   0       140   241    0        1      123      1      0.2   \n",
       "299   45    1   3       110   264    0        1      132      0      1.2   \n",
       "300   68    1   0       144   193    1        1      141      0      3.4   \n",
       "301   57    1   0       130   131    0        1      115      1      1.2   \n",
       "302   57    0   1       130   236    0        0      174      0      0.0   \n",
       "\n",
       "     slope  ca  thal  target  \n",
       "0        0   0     1       1  \n",
       "1        0   0     2       1  \n",
       "2        2   0     2       1  \n",
       "3        2   0     2       1  \n",
       "4        2   0     2       1  \n",
       "..     ...  ..   ...     ...  \n",
       "298      1   0     3       0  \n",
       "299      1   0     3       0  \n",
       "300      1   2     3       0  \n",
       "301      1   1     3       0  \n",
       "302      1   1     2       0  \n",
       "\n",
       "[303 rows x 14 columns]"
      ]
     },
     "execution_count": 2,
     "metadata": {},
     "output_type": "execute_result"
    }
   ],
   "source": [
    "df=pd.read_csv('heart.csv')\n",
    "df"
   ]
  },
  {
   "cell_type": "markdown",
   "id": "74225c4c-c8af-418c-be11-7d7d6bbafc35",
   "metadata": {},
   "source": [
    "__Checking Missing Values__\n"
   ]
  },
  {
   "cell_type": "code",
   "execution_count": 3,
   "id": "4529c3d3-a57a-4eb6-8859-2a85001957b3",
   "metadata": {},
   "outputs": [
    {
     "data": {
      "text/plain": [
       "age         0\n",
       "sex         0\n",
       "cp          0\n",
       "trestbps    0\n",
       "chol        0\n",
       "fbs         0\n",
       "restecg     0\n",
       "thalach     0\n",
       "exang       0\n",
       "oldpeak     0\n",
       "slope       0\n",
       "ca          0\n",
       "thal        0\n",
       "target      0\n",
       "dtype: int64"
      ]
     },
     "execution_count": 3,
     "metadata": {},
     "output_type": "execute_result"
    }
   ],
   "source": [
    "df.isnull().sum()"
   ]
  },
  {
   "cell_type": "markdown",
   "id": "d9cc4d27-4c4c-497b-8499-d89b7fd9182d",
   "metadata": {},
   "source": [
    "__Duplicate values__"
   ]
  },
  {
   "cell_type": "code",
   "execution_count": 4,
   "id": "c11f8168-3318-4e8d-9be5-8679527e8292",
   "metadata": {},
   "outputs": [
    {
     "data": {
      "text/plain": [
       "True"
      ]
     },
     "execution_count": 4,
     "metadata": {},
     "output_type": "execute_result"
    }
   ],
   "source": [
    "df_dup=df.duplicated().any()\n",
    "df_dup"
   ]
  },
  {
   "cell_type": "code",
   "execution_count": 5,
   "id": "0bed0241-d4a3-43f1-8ec7-b6e0251ba99a",
   "metadata": {},
   "outputs": [
    {
     "data": {
      "text/plain": [
       "False"
      ]
     },
     "execution_count": 5,
     "metadata": {},
     "output_type": "execute_result"
    }
   ],
   "source": [
    "df=df.drop_duplicates()\n",
    "df_dup=df.duplicated().any()\n",
    "df_dup"
   ]
  },
  {
   "cell_type": "markdown",
   "id": "9f3ab523-9f0c-49c5-945f-59bdfdbd1ddc",
   "metadata": {},
   "source": [
    "__Data Processing__"
   ]
  },
  {
   "cell_type": "code",
   "execution_count": 6,
   "id": "cbaa3f7e-556d-49b4-b2a2-df2c1524821b",
   "metadata": {},
   "outputs": [
    {
     "name": "stderr",
     "output_type": "stream",
     "text": [
      "C:\\Users\\Dell\\AppData\\Local\\Temp\\ipykernel_8952\\3122779442.py:3: SettingWithCopyWarning: \n",
      "A value is trying to be set on a copy of a slice from a DataFrame.\n",
      "Try using .loc[row_indexer,col_indexer] = value instead\n",
      "\n",
      "See the caveats in the documentation: https://pandas.pydata.org/pandas-docs/stable/user_guide/indexing.html#returning-a-view-versus-a-copy\n",
      "  df[features_to_convert]=df[features_to_convert].astype('object')\n"
     ]
    },
    {
     "data": {
      "text/plain": [
       "age           int64\n",
       "sex          object\n",
       "cp           object\n",
       "trestbps      int64\n",
       "chol          int64\n",
       "fbs          object\n",
       "restecg      object\n",
       "thalach       int64\n",
       "exang        object\n",
       "oldpeak     float64\n",
       "slope        object\n",
       "ca           object\n",
       "thal         object\n",
       "target       object\n",
       "dtype: object"
      ]
     },
     "execution_count": 6,
     "metadata": {},
     "output_type": "execute_result"
    }
   ],
   "source": [
    "continuous_features=['age','trestbps','chol','thalach','oldpeak']\n",
    "features_to_convert=[feature for feature in df.columns if feature not in continuous_features]\n",
    "df[features_to_convert]=df[features_to_convert].astype('object')\n",
    "df.dtypes"
   ]
  },
  {
   "cell_type": "code",
   "execution_count": 7,
   "id": "fad36246-34bc-4e2b-894d-e12ebac19b3b",
   "metadata": {},
   "outputs": [
    {
     "name": "stdout",
     "output_type": "stream",
     "text": [
      "Outlier Counts for Each Feature:\n",
      "age         0\n",
      "trestbps    9\n",
      "chol        5\n",
      "thalach     1\n",
      "oldpeak     5\n",
      "dtype: int64\n"
     ]
    }
   ],
   "source": [
    "# Calculate Q1, Q3, and IQR for each continuous feature\n",
    "Q1 = df[continuous_features].quantile(0.25)\n",
    "Q3 = df[continuous_features].quantile(0.75)\n",
    "IQR = Q3 - Q1\n",
    "\n",
    "# Identify outliers for each continuous feature\n",
    "outliers = ((df[continuous_features] < (Q1 - 1.5 * IQR)) | (df[continuous_features] > (Q3 + 1.5 * IQR)))\n",
    "\n",
    "# Count the number of outliers in each continuous feature\n",
    "outliers_count_specified = outliers.sum()\n",
    "\n",
    "# Display the count of outliers for each feature\n",
    "print(\"Outlier Counts for Each Feature:\")\n",
    "print(outliers_count_specified)"
   ]
  },
  {
   "cell_type": "markdown",
   "id": "94c4568f-d12f-48eb-8233-f398d7198e50",
   "metadata": {},
   "source": [
    "__One Hot Encoding__\n"
   ]
  },
  {
   "cell_type": "code",
   "execution_count": 8,
   "id": "df51d437-6e8d-4855-b2e8-36817a7423bf",
   "metadata": {},
   "outputs": [
    {
     "name": "stdout",
     "output_type": "stream",
     "text": [
      "Data Types of Encoded DataFrame Columns:\n",
      "age            int64\n",
      "sex            int32\n",
      "trestbps       int64\n",
      "chol           int64\n",
      "fbs            int32\n",
      "thalach        int64\n",
      "exang          int32\n",
      "oldpeak      float64\n",
      "slope          int32\n",
      "ca             int32\n",
      "target         int32\n",
      "cp_1            bool\n",
      "cp_2            bool\n",
      "cp_3            bool\n",
      "restecg_1       bool\n",
      "restecg_2       bool\n",
      "thal_1          bool\n",
      "thal_2          bool\n",
      "thal_3          bool\n",
      "dtype: object\n"
     ]
    }
   ],
   "source": [
    "import pandas as pd\n",
    "\n",
    "# Apply one-hot encoding on specific categorical features\n",
    "df_encoded = pd.get_dummies(df, columns=['cp', 'restecg', 'thal'], drop_first=True)\n",
    "\n",
    "# Convert specified categorical variables to integer type\n",
    "features_to_convert = ['sex', 'fbs', 'exang', 'slope', 'ca', 'target']\n",
    "for feature in features_to_convert:\n",
    "    df_encoded[feature] = df_encoded[feature].astype(int)\n",
    "\n",
    "# Display the data types of all columns in the encoded DataFrame\n",
    "print(\"Data Types of Encoded DataFrame Columns:\")\n",
    "print(df_encoded.dtypes)"
   ]
  },
  {
   "cell_type": "code",
   "execution_count": 9,
   "id": "d79d4adb-5923-4c73-aaf1-08ccdc50386e",
   "metadata": {},
   "outputs": [
    {
     "data": {
      "text/html": [
       "<div>\n",
       "<style scoped>\n",
       "    .dataframe tbody tr th:only-of-type {\n",
       "        vertical-align: middle;\n",
       "    }\n",
       "\n",
       "    .dataframe tbody tr th {\n",
       "        vertical-align: top;\n",
       "    }\n",
       "\n",
       "    .dataframe thead th {\n",
       "        text-align: right;\n",
       "    }\n",
       "</style>\n",
       "<table border=\"1\" class=\"dataframe\">\n",
       "  <thead>\n",
       "    <tr style=\"text-align: right;\">\n",
       "      <th></th>\n",
       "      <th>age</th>\n",
       "      <th>sex</th>\n",
       "      <th>trestbps</th>\n",
       "      <th>chol</th>\n",
       "      <th>fbs</th>\n",
       "      <th>thalach</th>\n",
       "      <th>exang</th>\n",
       "      <th>oldpeak</th>\n",
       "      <th>slope</th>\n",
       "      <th>ca</th>\n",
       "      <th>target</th>\n",
       "      <th>cp_1</th>\n",
       "      <th>cp_2</th>\n",
       "      <th>cp_3</th>\n",
       "      <th>restecg_1</th>\n",
       "      <th>restecg_2</th>\n",
       "      <th>thal_1</th>\n",
       "      <th>thal_2</th>\n",
       "      <th>thal_3</th>\n",
       "    </tr>\n",
       "  </thead>\n",
       "  <tbody>\n",
       "    <tr>\n",
       "      <th>0</th>\n",
       "      <td>63</td>\n",
       "      <td>1</td>\n",
       "      <td>145</td>\n",
       "      <td>233</td>\n",
       "      <td>1</td>\n",
       "      <td>150</td>\n",
       "      <td>0</td>\n",
       "      <td>2.3</td>\n",
       "      <td>0</td>\n",
       "      <td>0</td>\n",
       "      <td>1</td>\n",
       "      <td>False</td>\n",
       "      <td>False</td>\n",
       "      <td>True</td>\n",
       "      <td>False</td>\n",
       "      <td>False</td>\n",
       "      <td>True</td>\n",
       "      <td>False</td>\n",
       "      <td>False</td>\n",
       "    </tr>\n",
       "    <tr>\n",
       "      <th>1</th>\n",
       "      <td>37</td>\n",
       "      <td>1</td>\n",
       "      <td>130</td>\n",
       "      <td>250</td>\n",
       "      <td>0</td>\n",
       "      <td>187</td>\n",
       "      <td>0</td>\n",
       "      <td>3.5</td>\n",
       "      <td>0</td>\n",
       "      <td>0</td>\n",
       "      <td>1</td>\n",
       "      <td>False</td>\n",
       "      <td>True</td>\n",
       "      <td>False</td>\n",
       "      <td>True</td>\n",
       "      <td>False</td>\n",
       "      <td>False</td>\n",
       "      <td>True</td>\n",
       "      <td>False</td>\n",
       "    </tr>\n",
       "    <tr>\n",
       "      <th>2</th>\n",
       "      <td>41</td>\n",
       "      <td>0</td>\n",
       "      <td>130</td>\n",
       "      <td>204</td>\n",
       "      <td>0</td>\n",
       "      <td>172</td>\n",
       "      <td>0</td>\n",
       "      <td>1.4</td>\n",
       "      <td>2</td>\n",
       "      <td>0</td>\n",
       "      <td>1</td>\n",
       "      <td>True</td>\n",
       "      <td>False</td>\n",
       "      <td>False</td>\n",
       "      <td>False</td>\n",
       "      <td>False</td>\n",
       "      <td>False</td>\n",
       "      <td>True</td>\n",
       "      <td>False</td>\n",
       "    </tr>\n",
       "    <tr>\n",
       "      <th>3</th>\n",
       "      <td>56</td>\n",
       "      <td>1</td>\n",
       "      <td>120</td>\n",
       "      <td>236</td>\n",
       "      <td>0</td>\n",
       "      <td>178</td>\n",
       "      <td>0</td>\n",
       "      <td>0.8</td>\n",
       "      <td>2</td>\n",
       "      <td>0</td>\n",
       "      <td>1</td>\n",
       "      <td>True</td>\n",
       "      <td>False</td>\n",
       "      <td>False</td>\n",
       "      <td>True</td>\n",
       "      <td>False</td>\n",
       "      <td>False</td>\n",
       "      <td>True</td>\n",
       "      <td>False</td>\n",
       "    </tr>\n",
       "    <tr>\n",
       "      <th>4</th>\n",
       "      <td>57</td>\n",
       "      <td>0</td>\n",
       "      <td>120</td>\n",
       "      <td>354</td>\n",
       "      <td>0</td>\n",
       "      <td>163</td>\n",
       "      <td>1</td>\n",
       "      <td>0.6</td>\n",
       "      <td>2</td>\n",
       "      <td>0</td>\n",
       "      <td>1</td>\n",
       "      <td>False</td>\n",
       "      <td>False</td>\n",
       "      <td>False</td>\n",
       "      <td>True</td>\n",
       "      <td>False</td>\n",
       "      <td>False</td>\n",
       "      <td>True</td>\n",
       "      <td>False</td>\n",
       "    </tr>\n",
       "  </tbody>\n",
       "</table>\n",
       "</div>"
      ],
      "text/plain": [
       "   age  sex  trestbps  chol  fbs  thalach  exang  oldpeak  slope  ca  target  \\\n",
       "0   63    1       145   233    1      150      0      2.3      0   0       1   \n",
       "1   37    1       130   250    0      187      0      3.5      0   0       1   \n",
       "2   41    0       130   204    0      172      0      1.4      2   0       1   \n",
       "3   56    1       120   236    0      178      0      0.8      2   0       1   \n",
       "4   57    0       120   354    0      163      1      0.6      2   0       1   \n",
       "\n",
       "    cp_1   cp_2   cp_3  restecg_1  restecg_2  thal_1  thal_2  thal_3  \n",
       "0  False  False   True      False      False    True   False   False  \n",
       "1  False   True  False       True      False   False    True   False  \n",
       "2   True  False  False      False      False   False    True   False  \n",
       "3   True  False  False       True      False   False    True   False  \n",
       "4  False  False  False       True      False   False    True   False  "
      ]
     },
     "execution_count": 9,
     "metadata": {},
     "output_type": "execute_result"
    }
   ],
   "source": [
    "df_encoded.head()"
   ]
  },
  {
   "cell_type": "markdown",
   "id": "306514c9-4de5-41c7-a7bd-11b52c5f129a",
   "metadata": {},
   "source": [
    "__Spilting Dataset__"
   ]
  },
  {
   "cell_type": "code",
   "execution_count": 10,
   "id": "b1bd5381-7964-4bc7-b73d-a7905d6add22",
   "metadata": {},
   "outputs": [],
   "source": [
    "# Define features and labels\n",
    "X = df_encoded.drop('target', axis=1)\n",
    "y = df_encoded['target']"
   ]
  },
  {
   "cell_type": "code",
   "execution_count": 11,
   "id": "97f17673-1646-4e01-99a4-1a5c4ea99b47",
   "metadata": {},
   "outputs": [],
   "source": [
    "from sklearn.model_selection import train_test_split\n",
    "\n",
    "# Split data into training and testing sets\n",
    "X_train, X_test, y_train, y_test = train_test_split(X, y, test_size=0.2, random_state=0, stratify=y)"
   ]
  },
  {
   "cell_type": "code",
   "execution_count": 12,
   "id": "419a60af-2db0-4ba2-9405-828b6f83c046",
   "metadata": {},
   "outputs": [],
   "source": [
    "# Adding a small constant to 'oldpeak' to ensure all values are positive\n",
    "X_train.loc[:, 'oldpeak'] = X_train['oldpeak'] + 0.001\n",
    "X_test.loc[:, 'oldpeak'] = X_test['oldpeak'] + 0.001\n"
   ]
  },
  {
   "cell_type": "code",
   "execution_count": 13,
   "id": "e67cf929-11c4-49a2-a51e-75a9f46943db",
   "metadata": {},
   "outputs": [
    {
     "data": {
      "image/png": "[encoded data removed]",
      "text/plain": [
       "<Figure size 1500x1000 with 10 Axes>"
      ]
     },
     "metadata": {},
     "output_type": "display_data"
    }
   ],
   "source": [
    "import matplotlib.pyplot as plt\n",
    "import seaborn as sns\n",
    "from scipy.stats import boxcox\n",
    "\n",
    "# Checking the distribution of the continuous features\n",
    "fig, ax = plt.subplots(2, 5, figsize=(15, 10))\n",
    "\n",
    "# Dictionary to store lambda values for each feature\n",
    "lambdas = {}\n",
    "\n",
    "# Original Distributions\n",
    "for i, col in enumerate(continuous_features):\n",
    "    sns.histplot(X_train[col], kde=True, ax=ax[0, i], color='#ff826e').set_title(f'Original {col}')\n",
    "\n",
    "# Applying Box-Cox Transformation\n",
    "for i, col in enumerate(continuous_features):\n",
    "    # Only apply Box-Cox for positive values\n",
    "    if X_train[col].min() > 0:\n",
    "        X_train[col], lambdas[col] = boxcox(X_train[col])\n",
    "        X_test[col] = boxcox(X_test[col], lmbda=lambdas[col])  # Apply the same transformation to test data\n",
    "        sns.histplot(X_train[col], kde=True, ax=ax[1, i], color='red').set_title(f'Transformed {col}')\n",
    "    else:\n",
    "        sns.histplot(X_train[col], kde=True, ax=ax[1, i], color='green').set_title(f'{col} (Not Transformed)')\n",
    "\n",
    "fig.tight_layout()\n",
    "plt.show()"
   ]
  },
  {
   "cell_type": "code",
   "execution_count": 14,
   "id": "da7c898d-bd07-4803-a345-d29b967973df",
   "metadata": {},
   "outputs": [
    {
     "data": {
      "text/html": [
       "<div>\n",
       "<style scoped>\n",
       "    .dataframe tbody tr th:only-of-type {\n",
       "        vertical-align: middle;\n",
       "    }\n",
       "\n",
       "    .dataframe tbody tr th {\n",
       "        vertical-align: top;\n",
       "    }\n",
       "\n",
       "    .dataframe thead th {\n",
       "        text-align: right;\n",
       "    }\n",
       "</style>\n",
       "<table border=\"1\" class=\"dataframe\">\n",
       "  <thead>\n",
       "    <tr style=\"text-align: right;\">\n",
       "      <th></th>\n",
       "      <th>age</th>\n",
       "      <th>sex</th>\n",
       "      <th>trestbps</th>\n",
       "      <th>chol</th>\n",
       "      <th>fbs</th>\n",
       "      <th>thalach</th>\n",
       "      <th>exang</th>\n",
       "      <th>oldpeak</th>\n",
       "      <th>slope</th>\n",
       "      <th>ca</th>\n",
       "      <th>cp_1</th>\n",
       "      <th>cp_2</th>\n",
       "      <th>cp_3</th>\n",
       "      <th>restecg_1</th>\n",
       "      <th>restecg_2</th>\n",
       "      <th>thal_1</th>\n",
       "      <th>thal_2</th>\n",
       "      <th>thal_3</th>\n",
       "    </tr>\n",
       "  </thead>\n",
       "  <tbody>\n",
       "    <tr>\n",
       "      <th>269</th>\n",
       "      <td>94.886555</td>\n",
       "      <td>1</td>\n",
       "      <td>1.501070</td>\n",
       "      <td>4.128690</td>\n",
       "      <td>1</td>\n",
       "      <td>33182.245330</td>\n",
       "      <td>1</td>\n",
       "      <td>0.491743</td>\n",
       "      <td>0</td>\n",
       "      <td>0</td>\n",
       "      <td>False</td>\n",
       "      <td>False</td>\n",
       "      <td>False</td>\n",
       "      <td>False</td>\n",
       "      <td>False</td>\n",
       "      <td>False</td>\n",
       "      <td>False</td>\n",
       "      <td>True</td>\n",
       "    </tr>\n",
       "    <tr>\n",
       "      <th>191</th>\n",
       "      <td>98.909012</td>\n",
       "      <td>1</td>\n",
       "      <td>1.500366</td>\n",
       "      <td>3.987127</td>\n",
       "      <td>0</td>\n",
       "      <td>59642.423635</td>\n",
       "      <td>1</td>\n",
       "      <td>0.849443</td>\n",
       "      <td>1</td>\n",
       "      <td>3</td>\n",
       "      <td>False</td>\n",
       "      <td>False</td>\n",
       "      <td>False</td>\n",
       "      <td>False</td>\n",
       "      <td>False</td>\n",
       "      <td>False</td>\n",
       "      <td>False</td>\n",
       "      <td>True</td>\n",
       "    </tr>\n",
       "    <tr>\n",
       "      <th>15</th>\n",
       "      <td>82.970802</td>\n",
       "      <td>0</td>\n",
       "      <td>1.497357</td>\n",
       "      <td>3.994464</td>\n",
       "      <td>0</td>\n",
       "      <td>94189.755213</td>\n",
       "      <td>0</td>\n",
       "      <td>0.491743</td>\n",
       "      <td>1</td>\n",
       "      <td>0</td>\n",
       "      <td>False</td>\n",
       "      <td>True</td>\n",
       "      <td>False</td>\n",
       "      <td>True</td>\n",
       "      <td>False</td>\n",
       "      <td>False</td>\n",
       "      <td>True</td>\n",
       "      <td>False</td>\n",
       "    </tr>\n",
       "    <tr>\n",
       "      <th>224</th>\n",
       "      <td>90.888854</td>\n",
       "      <td>1</td>\n",
       "      <td>1.493099</td>\n",
       "      <td>4.040672</td>\n",
       "      <td>0</td>\n",
       "      <td>54243.160990</td>\n",
       "      <td>1</td>\n",
       "      <td>1.134744</td>\n",
       "      <td>1</td>\n",
       "      <td>1</td>\n",
       "      <td>False</td>\n",
       "      <td>False</td>\n",
       "      <td>False</td>\n",
       "      <td>True</td>\n",
       "      <td>False</td>\n",
       "      <td>False</td>\n",
       "      <td>False</td>\n",
       "      <td>True</td>\n",
       "    </tr>\n",
       "    <tr>\n",
       "      <th>250</th>\n",
       "      <td>84.940391</td>\n",
       "      <td>1</td>\n",
       "      <td>1.504344</td>\n",
       "      <td>4.155245</td>\n",
       "      <td>0</td>\n",
       "      <td>50139.691017</td>\n",
       "      <td>1</td>\n",
       "      <td>1.644134</td>\n",
       "      <td>1</td>\n",
       "      <td>3</td>\n",
       "      <td>False</td>\n",
       "      <td>False</td>\n",
       "      <td>False</td>\n",
       "      <td>True</td>\n",
       "      <td>False</td>\n",
       "      <td>False</td>\n",
       "      <td>False</td>\n",
       "      <td>True</td>\n",
       "    </tr>\n",
       "  </tbody>\n",
       "</table>\n",
       "</div>"
      ],
      "text/plain": [
       "           age  sex  trestbps      chol  fbs       thalach  exang   oldpeak  \\\n",
       "269  94.886555    1  1.501070  4.128690    1  33182.245330      1  0.491743   \n",
       "191  98.909012    1  1.500366  3.987127    0  59642.423635      1  0.849443   \n",
       "15   82.970802    0  1.497357  3.994464    0  94189.755213      0  0.491743   \n",
       "224  90.888854    1  1.493099  4.040672    0  54243.160990      1  1.134744   \n",
       "250  84.940391    1  1.504344  4.155245    0  50139.691017      1  1.644134   \n",
       "\n",
       "     slope  ca   cp_1   cp_2   cp_3  restecg_1  restecg_2  thal_1  thal_2  \\\n",
       "269      0   0  False  False  False      False      False   False   False   \n",
       "191      1   3  False  False  False      False      False   False   False   \n",
       "15       1   0  False   True  False       True      False   False    True   \n",
       "224      1   1  False  False  False       True      False   False   False   \n",
       "250      1   3  False  False  False       True      False   False   False   \n",
       "\n",
       "     thal_3  \n",
       "269    True  \n",
       "191    True  \n",
       "15    False  \n",
       "224    True  \n",
       "250    True  "
      ]
     },
     "execution_count": 14,
     "metadata": {},
     "output_type": "execute_result"
    }
   ],
   "source": [
    "X_train.head()"
   ]
  },
  {
   "cell_type": "markdown",
   "id": "c99b7d8a-db50-4acc-a1f7-79ac11a65d96",
   "metadata": {},
   "source": [
    "__Decission Tree__"
   ]
  },
  {
   "cell_type": "code",
   "execution_count": 15,
   "id": "5727ec76-a7e7-43f7-8547-43758d365216",
   "metadata": {},
   "outputs": [],
   "source": [
    "from sklearn.tree import DecisionTreeClassifier\n",
    "\n",
    "# Define the base Decision Tree model\n",
    "dt_base = DecisionTreeClassifier(random_state=0)"
   ]
  },
  {
   "cell_type": "code",
   "execution_count": 16,
   "id": "ac541c69-fd71-40e1-aee0-36613514704a",
   "metadata": {},
   "outputs": [
    {
     "name": "stdout",
     "output_type": "stream",
     "text": [
      "Best Decision Tree Model: DecisionTreeClassifier(max_depth=3, random_state=0)\n",
      "Best Hyperparameters for Decision Tree: {'criterion': 'gini', 'max_depth': 3, 'min_samples_leaf': 1, 'min_samples_split': 2}\n"
     ]
    }
   ],
   "source": [
    "import numpy as np\n",
    "import pandas as pd\n",
    "from sklearn.model_selection import GridSearchCV, StratifiedKFold\n",
    "from sklearn.tree import DecisionTreeClassifier\n",
    "\n",
    "def tune_clf_hyperparameters(clf, param_grid, X_train, y_train, scoring='recall', n_splits=3):\n",
    "   \n",
    "    \n",
    "    # Create the cross-validation object using StratifiedKFold to ensure the class distribution is the same across all the folds\n",
    "    cv = StratifiedKFold(n_splits=n_splits, shuffle=True, random_state=0)\n",
    "\n",
    "    # Create the GridSearchCV object\n",
    "    clf_grid = GridSearchCV(clf, param_grid, cv=cv, scoring=scoring, n_jobs=-1)\n",
    "    \n",
    "    # Fit the GridSearchCV object to the training data\n",
    "    clf_grid.fit(X_train, y_train)\n",
    "\n",
    "    # Get the best hyperparameters\n",
    "    best_hyperparameters = clf_grid.best_params_\n",
    "    \n",
    "    # Return the best_estimator_ attribute which gives us the best model that has been fitted to the training data\n",
    "    return clf_grid.best_estimator_, best_hyperparameters\n",
    "\n",
    "# Define the hyperparameter grid for the Decision Tree\n",
    "param_grid_dt = {\n",
    "    'criterion': ['gini', 'entropy'],\n",
    "    'max_depth': [2, 3],\n",
    "    'min_samples_split': [2, 3, 4],\n",
    "    'min_samples_leaf': [1, 2]\n",
    "}\n",
    "\n",
    "# Create a Decision Tree classifier\n",
    "dt_classifier = DecisionTreeClassifier(random_state=0)\n",
    "\n",
    "# Call the function to tune hyperparameters using the specified grid\n",
    "best_dt_model, best_dt_params = tune_clf_hyperparameters(dt_classifier, param_grid_dt, X_train, y_train)\n",
    "\n",
    "# Output the best model and parameters\n",
    "print(\"Best Decision Tree Model:\", best_dt_model)\n",
    "print(\"Best Hyperparameters for Decision Tree:\", best_dt_params)"
   ]
  },
  {
   "cell_type": "code",
   "execution_count": 17,
   "id": "16bed5ce-46b0-4c40-985c-e1ec00a3fe36",
   "metadata": {},
   "outputs": [
    {
     "name": "stdout",
     "output_type": "stream",
     "text": [
      "DT Optimal Hyperparameters: \n",
      " {'criterion': 'gini', 'max_depth': 3, 'min_samples_leaf': 1, 'min_samples_split': 2}\n"
     ]
    }
   ],
   "source": [
    "# Call the function for hyperparameter tuning\n",
    "best_dt, best_dt_hyperparams = tune_clf_hyperparameters(dt_base, param_grid_dt, X_train, y_train)\n",
    "\n",
    "# Print the optimal hyperparameters\n",
    "print('DT Optimal Hyperparameters: \\n', best_dt_hyperparams)"
   ]
  },
  {
   "cell_type": "code",
   "execution_count": 18,
   "id": "01fd8ba2-64d4-4526-b3e6-760ee5d18262",
   "metadata": {},
   "outputs": [
    {
     "name": "stdout",
     "output_type": "stream",
     "text": [
      "              precision    recall  f1-score   support\n",
      "\n",
      "           0       0.91      0.78      0.84       110\n",
      "           1       0.84      0.93      0.88       131\n",
      "\n",
      "    accuracy                           0.86       241\n",
      "   macro avg       0.87      0.86      0.86       241\n",
      "weighted avg       0.87      0.86      0.86       241\n",
      "\n"
     ]
    }
   ],
   "source": [
    "from sklearn.metrics import classification_report\n",
    "\n",
    "# Evaluate the optimized model on the training data\n",
    "y_train_pred = best_dt.predict(X_train)\n",
    "print(classification_report(y_train, y_train_pred))"
   ]
  },
  {
   "cell_type": "code",
   "execution_count": 19,
   "id": "70214bab-693d-4900-b0f6-f86b6effa13a",
   "metadata": {},
   "outputs": [],
   "source": [
    "import pandas as pd\n",
    "from sklearn.metrics import classification_report, accuracy_score\n",
    "\n",
    "def evaluate_model(model, X_test, y_test, model_name):\n",
    "   \n",
    " \n",
    "    # Make predictions\n",
    "    y_pred = model.predict(X_test)\n",
    "    \n",
    "    # Get classification report\n",
    "    report = classification_report(y_test, y_pred, output_dict=True)\n",
    "    \n",
    "    # Extracting metrics\n",
    "    metrics = {\n",
    "        \"precision_0\": report[\"0\"][\"precision\"],\n",
    "        \"precision_1\": report[\"1\"][\"precision\"],\n",
    "        \"recall_0\": report[\"0\"][\"recall\"],\n",
    "        \"recall_1\": report[\"1\"][\"recall\"],\n",
    "        \"f1_0\": report[\"0\"][\"f1-score\"],\n",
    "        \"f1_1\": report[\"1\"][\"f1-score\"],\n",
    "        \"macro_avg_precision\": report[\"macro avg\"][\"precision\"],\n",
    "        \"macro_avg_recall\": report[\"macro avg\"][\"recall\"],\n",
    "        \"macro_avg_f1\": report[\"macro avg\"][\"f1-score\"],\n",
    "        \"accuracy\": accuracy_score(y_test, y_pred)\n",
    "    }\n",
    "    \n",
    "    # Convert dictionary to DataFrame\n",
    "    df = pd.DataFrame(metrics, index=[model_name]).round(2)\n",
    "    \n",
    "    return df"
   ]
  },
  {
   "cell_type": "code",
   "execution_count": 20,
   "id": "55df3abc-a46b-4042-9c0f-faf19da01881",
   "metadata": {},
   "outputs": [
    {
     "data": {
      "text/html": [
       "<div>\n",
       "<style scoped>\n",
       "    .dataframe tbody tr th:only-of-type {\n",
       "        vertical-align: middle;\n",
       "    }\n",
       "\n",
       "    .dataframe tbody tr th {\n",
       "        vertical-align: top;\n",
       "    }\n",
       "\n",
       "    .dataframe thead th {\n",
       "        text-align: right;\n",
       "    }\n",
       "</style>\n",
       "<table border=\"1\" class=\"dataframe\">\n",
       "  <thead>\n",
       "    <tr style=\"text-align: right;\">\n",
       "      <th></th>\n",
       "      <th>precision_0</th>\n",
       "      <th>precision_1</th>\n",
       "      <th>recall_0</th>\n",
       "      <th>recall_1</th>\n",
       "      <th>f1_0</th>\n",
       "      <th>f1_1</th>\n",
       "      <th>macro_avg_precision</th>\n",
       "      <th>macro_avg_recall</th>\n",
       "      <th>macro_avg_f1</th>\n",
       "      <th>accuracy</th>\n",
       "    </tr>\n",
       "  </thead>\n",
       "  <tbody>\n",
       "    <tr>\n",
       "      <th>DT</th>\n",
       "      <td>0.73</td>\n",
       "      <td>0.74</td>\n",
       "      <td>0.68</td>\n",
       "      <td>0.79</td>\n",
       "      <td>0.7</td>\n",
       "      <td>0.76</td>\n",
       "      <td>0.74</td>\n",
       "      <td>0.73</td>\n",
       "      <td>0.73</td>\n",
       "      <td>0.74</td>\n",
       "    </tr>\n",
       "  </tbody>\n",
       "</table>\n",
       "</div>"
      ],
      "text/plain": [
       "    precision_0  precision_1  recall_0  recall_1  f1_0  f1_1  \\\n",
       "DT         0.73         0.74      0.68      0.79   0.7  0.76   \n",
       "\n",
       "    macro_avg_precision  macro_avg_recall  macro_avg_f1  accuracy  \n",
       "DT                 0.74              0.73          0.73      0.74  "
      ]
     },
     "execution_count": 20,
     "metadata": {},
     "output_type": "execute_result"
    }
   ],
   "source": [
    "# Evaluate the optimized Decision Tree model on the test set\n",
    "dt_evaluation = evaluate_model(best_dt, X_test, y_test, 'DT')\n",
    "\n",
    "# Display the evaluation results\n",
    "dt_evaluation"
   ]
  },
  {
   "cell_type": "markdown",
   "id": "c571b709-9aee-43e9-a95a-d2d1d888058d",
   "metadata": {},
   "source": [
    "__Random Forest__"
   ]
  },
  {
   "cell_type": "code",
   "execution_count": 21,
   "id": "dc16ef03-6f8f-4c88-ac16-ae165932fba9",
   "metadata": {},
   "outputs": [],
   "source": [
    "rf_base = RandomForestClassifier(random_state=0)\n",
    "param_grid_rf = {\n",
    "    'n_estimators': [10, 30, 50, 70, 100],\n",
    "    'criterion': ['gini', 'entropy'],\n",
    "    'max_depth': [2, 3, 4],\n",
    "    'min_samples_split': [2, 3, 4, 5],\n",
    "    'min_samples_leaf': [1, 2, 3],\n",
    "    'bootstrap': [True, False]\n",
    "}"
   ]
  },
  {
   "cell_type": "code",
   "execution_count": 22,
   "id": "c6ac887a-c341-43e6-a338-790fa020965b",
   "metadata": {},
   "outputs": [
    {
     "name": "stdout",
     "output_type": "stream",
     "text": [
      "RF Optimal Hyperparameters: \n",
      " {'bootstrap': False, 'criterion': 'gini', 'max_depth': 2, 'min_samples_leaf': 1, 'min_samples_split': 2, 'n_estimators': 50}\n",
      "              precision    recall  f1-score   support\n",
      "\n",
      "           0       0.86      0.79      0.82       110\n",
      "           1       0.84      0.89      0.86       131\n",
      "\n",
      "    accuracy                           0.85       241\n",
      "   macro avg       0.85      0.84      0.84       241\n",
      "weighted avg       0.85      0.85      0.85       241\n",
      "\n"
     ]
    }
   ],
   "source": [
    "best_rf, best_rf_hyperparams = tune_clf_hyperparameters(rf_base, param_grid_rf, X_train, y_train)\n",
    "print('RF Optimal Hyperparameters: \\n', best_rf_hyperparams)\n",
    "# Evaluate the optimized model on the train data\n",
    "print(classification_report(y_train, best_rf.predict(X_train)))"
   ]
  },
  {
   "cell_type": "code",
   "execution_count": 23,
   "id": "879e725f-f71f-47d5-b543-6207dbcd500b",
   "metadata": {},
   "outputs": [
    {
     "name": "stdout",
     "output_type": "stream",
     "text": [
      "              precision    recall  f1-score   support\n",
      "\n",
      "           0       0.88      0.75      0.81        28\n",
      "           1       0.81      0.91      0.86        33\n",
      "\n",
      "    accuracy                           0.84        61\n",
      "   macro avg       0.84      0.83      0.83        61\n",
      "weighted avg       0.84      0.84      0.83        61\n",
      "\n"
     ]
    }
   ],
   "source": [
    "# Evaluate the optimized model on the test data\n",
    "print(classification_report(y_test, best_rf.predict(X_test)))"
   ]
  },
  {
   "cell_type": "code",
   "execution_count": 24,
   "id": "5cd8ae5f-88bf-4bb4-b770-107bfef49369",
   "metadata": {},
   "outputs": [
    {
     "data": {
      "text/html": [
       "<div>\n",
       "<style scoped>\n",
       "    .dataframe tbody tr th:only-of-type {\n",
       "        vertical-align: middle;\n",
       "    }\n",
       "\n",
       "    .dataframe tbody tr th {\n",
       "        vertical-align: top;\n",
       "    }\n",
       "\n",
       "    .dataframe thead th {\n",
       "        text-align: right;\n",
       "    }\n",
       "</style>\n",
       "<table border=\"1\" class=\"dataframe\">\n",
       "  <thead>\n",
       "    <tr style=\"text-align: right;\">\n",
       "      <th></th>\n",
       "      <th>precision_0</th>\n",
       "      <th>precision_1</th>\n",
       "      <th>recall_0</th>\n",
       "      <th>recall_1</th>\n",
       "      <th>f1_0</th>\n",
       "      <th>f1_1</th>\n",
       "      <th>macro_avg_precision</th>\n",
       "      <th>macro_avg_recall</th>\n",
       "      <th>macro_avg_f1</th>\n",
       "      <th>accuracy</th>\n",
       "    </tr>\n",
       "  </thead>\n",
       "  <tbody>\n",
       "    <tr>\n",
       "      <th>RF</th>\n",
       "      <td>0.88</td>\n",
       "      <td>0.81</td>\n",
       "      <td>0.75</td>\n",
       "      <td>0.91</td>\n",
       "      <td>0.81</td>\n",
       "      <td>0.86</td>\n",
       "      <td>0.84</td>\n",
       "      <td>0.83</td>\n",
       "      <td>0.83</td>\n",
       "      <td>0.84</td>\n",
       "    </tr>\n",
       "  </tbody>\n",
       "</table>\n",
       "</div>"
      ],
      "text/plain": [
       "    precision_0  precision_1  recall_0  recall_1  f1_0  f1_1  \\\n",
       "RF         0.88         0.81      0.75      0.91  0.81  0.86   \n",
       "\n",
       "    macro_avg_precision  macro_avg_recall  macro_avg_f1  accuracy  \n",
       "RF                 0.84              0.83          0.83      0.84  "
      ]
     },
     "execution_count": 24,
     "metadata": {},
     "output_type": "execute_result"
    }
   ],
   "source": [
    "rf_evaluation = evaluate_model(best_rf, X_test, y_test, 'RF')\n",
    "rf_evaluation"
   ]
  },
  {
   "cell_type": "markdown",
   "id": "a2e4cfe6-0c17-4788-9cd1-94607fe395bf",
   "metadata": {},
   "source": [
    "__KNN__"
   ]
  },
  {
   "cell_type": "code",
   "execution_count": 25,
   "id": "ae03d852-77ca-41b1-8a54-e81f0b9653f1",
   "metadata": {},
   "outputs": [],
   "source": [
    "# Define the base KNN model and set up the pipeline with scaling\n",
    "knn_pipeline = Pipeline([\n",
    "    ('scaler', StandardScaler()),\n",
    "    ('knn', KNeighborsClassifier())\n",
    "])"
   ]
  },
  {
   "cell_type": "code",
   "execution_count": 26,
   "id": "0739bebe-3db0-42da-85e7-4bca05380eda",
   "metadata": {},
   "outputs": [],
   "source": [
    "# Hyperparameter grid for KNN\n",
    "knn_param_grid = {\n",
    "    'knn__n_neighbors': list(range(1, 12)),\n",
    "    'knn__weights': ['uniform', 'distance'],\n",
    "    'knn__p': [1, 2]  # 1: Manhattan distance, 2: Euclidean distance\n",
    "}"
   ]
  },
  {
   "cell_type": "code",
   "execution_count": 27,
   "id": "3269fb00-b34e-48ee-87d9-6a5c4a3019e3",
   "metadata": {},
   "outputs": [
    {
     "name": "stdout",
     "output_type": "stream",
     "text": [
      "KNN Optimal Hyperparameters: \n",
      " {'knn__n_neighbors': 10, 'knn__p': 1, 'knn__weights': 'distance'}\n"
     ]
    }
   ],
   "source": [
    "# Hyperparameter tuning for KNN\n",
    "best_knn, best_knn_hyperparams = tune_clf_hyperparameters(knn_pipeline, knn_param_grid, X_train, y_train)\n",
    "print('KNN Optimal Hyperparameters: \\n', best_knn_hyperparams)"
   ]
  },
  {
   "cell_type": "code",
   "execution_count": 28,
   "id": "14273d09-6996-43c7-94e7-8ba3287077c9",
   "metadata": {},
   "outputs": [
    {
     "name": "stdout",
     "output_type": "stream",
     "text": [
      "              precision    recall  f1-score   support\n",
      "\n",
      "           0       0.79      0.82      0.81        28\n",
      "           1       0.84      0.82      0.83        33\n",
      "\n",
      "    accuracy                           0.82        61\n",
      "   macro avg       0.82      0.82      0.82        61\n",
      "weighted avg       0.82      0.82      0.82        61\n",
      "\n"
     ]
    }
   ],
   "source": [
    "# Evaluate the optimized model on the test data\n",
    "print(classification_report(y_test, best_knn.predict(X_test)))"
   ]
  },
  {
   "cell_type": "code",
   "execution_count": 29,
   "id": "fbb4554e-2ac4-42ed-a382-73579bb87597",
   "metadata": {},
   "outputs": [
    {
     "data": {
      "text/html": [
       "<div>\n",
       "<style scoped>\n",
       "    .dataframe tbody tr th:only-of-type {\n",
       "        vertical-align: middle;\n",
       "    }\n",
       "\n",
       "    .dataframe tbody tr th {\n",
       "        vertical-align: top;\n",
       "    }\n",
       "\n",
       "    .dataframe thead th {\n",
       "        text-align: right;\n",
       "    }\n",
       "</style>\n",
       "<table border=\"1\" class=\"dataframe\">\n",
       "  <thead>\n",
       "    <tr style=\"text-align: right;\">\n",
       "      <th></th>\n",
       "      <th>precision_0</th>\n",
       "      <th>precision_1</th>\n",
       "      <th>recall_0</th>\n",
       "      <th>recall_1</th>\n",
       "      <th>f1_0</th>\n",
       "      <th>f1_1</th>\n",
       "      <th>macro_avg_precision</th>\n",
       "      <th>macro_avg_recall</th>\n",
       "      <th>macro_avg_f1</th>\n",
       "      <th>accuracy</th>\n",
       "    </tr>\n",
       "  </thead>\n",
       "  <tbody>\n",
       "    <tr>\n",
       "      <th>KNN</th>\n",
       "      <td>0.79</td>\n",
       "      <td>0.84</td>\n",
       "      <td>0.82</td>\n",
       "      <td>0.82</td>\n",
       "      <td>0.81</td>\n",
       "      <td>0.83</td>\n",
       "      <td>0.82</td>\n",
       "      <td>0.82</td>\n",
       "      <td>0.82</td>\n",
       "      <td>0.82</td>\n",
       "    </tr>\n",
       "  </tbody>\n",
       "</table>\n",
       "</div>"
      ],
      "text/plain": [
       "     precision_0  precision_1  recall_0  recall_1  f1_0  f1_1  \\\n",
       "KNN         0.79         0.84      0.82      0.82  0.81  0.83   \n",
       "\n",
       "     macro_avg_precision  macro_avg_recall  macro_avg_f1  accuracy  \n",
       "KNN                 0.82              0.82          0.82      0.82  "
      ]
     },
     "execution_count": 29,
     "metadata": {},
     "output_type": "execute_result"
    }
   ],
   "source": [
    "knn_evaluation = evaluate_model(best_knn, X_test, y_test, 'KNN')\n",
    "knn_evaluation"
   ]
  },
  {
   "cell_type": "markdown",
   "id": "3f4a9819-6b31-488c-ad4b-14315f8ef2fc",
   "metadata": {},
   "source": [
    "__SVM__"
   ]
  },
  {
   "cell_type": "code",
   "execution_count": 30,
   "id": "5422c2bd-4add-40ef-8e4b-48033a1ddd6c",
   "metadata": {},
   "outputs": [],
   "source": [
    "svm_pipeline = Pipeline([\n",
    "    ('scaler', StandardScaler()),\n",
    "    ('svm', SVC(probability=True)) \n",
    "])"
   ]
  },
  {
   "cell_type": "code",
   "execution_count": 31,
   "id": "27b4caf6-b2a8-4ec7-845e-a72f6b0b89e9",
   "metadata": {},
   "outputs": [],
   "source": [
    "param_grid_svm = {\n",
    "    'svm__C': [0.0011, 0.005, 0.01, 0.05, 0.1, 1, 10, 20],\n",
    "    'svm__kernel': ['linear', 'rbf', 'poly'],\n",
    "    'svm__gamma': ['scale', 'auto', 0.1, 0.5, 1, 5],  \n",
    "    'svm__degree': [2, 3, 4]\n",
    "}"
   ]
  },
  {
   "cell_type": "code",
   "execution_count": 32,
   "id": "33441d6d-5254-438b-a3a2-0220b5004fd4",
   "metadata": {},
   "outputs": [
    {
     "name": "stdout",
     "output_type": "stream",
     "text": [
      "SVM Optimal Hyperparameters: \n",
      " {'svm__C': 0.0011, 'svm__degree': 2, 'svm__gamma': 'scale', 'svm__kernel': 'linear'}\n"
     ]
    },
    {
     "name": "stderr",
     "output_type": "stream",
     "text": [
      "C:\\Users\\Dell\\Anaconda11\\Lib\\site-packages\\numpy\\ma\\core.py:2820: RuntimeWarning: invalid value encountered in cast\n",
      "  _data = np.array(data, dtype=dtype, copy=copy,\n"
     ]
    }
   ],
   "source": [
    "# Call the function for hyperparameter tuning\n",
    "best_svm, best_svm_hyperparams = tune_clf_hyperparameters(svm_pipeline, param_grid_svm, X_train, y_train)\n",
    "print('SVM Optimal Hyperparameters: \\n', best_svm_hyperparams)"
   ]
  },
  {
   "cell_type": "code",
   "execution_count": 33,
   "id": "3b2d88a9-c8b7-4870-898f-a443cb9f0f52",
   "metadata": {},
   "outputs": [
    {
     "name": "stdout",
     "output_type": "stream",
     "text": [
      "              precision    recall  f1-score   support\n",
      "\n",
      "           0       0.91      0.55      0.69       110\n",
      "           1       0.72      0.95      0.82       131\n",
      "\n",
      "    accuracy                           0.77       241\n",
      "   macro avg       0.81      0.75      0.75       241\n",
      "weighted avg       0.81      0.77      0.76       241\n",
      "\n"
     ]
    }
   ],
   "source": [
    "# Evaluate the optimized model on the train data\n",
    "print(classification_report(y_train, best_svm.predict(X_train)))"
   ]
  },
  {
   "cell_type": "code",
   "execution_count": 34,
   "id": "05372a7a-61de-4fff-aebb-be9a008c5247",
   "metadata": {},
   "outputs": [
    {
     "name": "stdout",
     "output_type": "stream",
     "text": [
      "              precision    recall  f1-score   support\n",
      "\n",
      "           0       0.95      0.68      0.79        28\n",
      "           1       0.78      0.97      0.86        33\n",
      "\n",
      "    accuracy                           0.84        61\n",
      "   macro avg       0.87      0.82      0.83        61\n",
      "weighted avg       0.86      0.84      0.83        61\n",
      "\n"
     ]
    }
   ],
   "source": [
    "# Evaluate the optimized model on the test data\n",
    "print(classification_report(y_test, best_svm.predict(X_test)))"
   ]
  },
  {
   "cell_type": "code",
   "execution_count": 35,
   "id": "7f2fc29d-aa09-4ca3-93ac-d888e0990420",
   "metadata": {},
   "outputs": [
    {
     "data": {
      "text/html": [
       "<div>\n",
       "<style scoped>\n",
       "    .dataframe tbody tr th:only-of-type {\n",
       "        vertical-align: middle;\n",
       "    }\n",
       "\n",
       "    .dataframe tbody tr th {\n",
       "        vertical-align: top;\n",
       "    }\n",
       "\n",
       "    .dataframe thead th {\n",
       "        text-align: right;\n",
       "    }\n",
       "</style>\n",
       "<table border=\"1\" class=\"dataframe\">\n",
       "  <thead>\n",
       "    <tr style=\"text-align: right;\">\n",
       "      <th></th>\n",
       "      <th>precision_0</th>\n",
       "      <th>precision_1</th>\n",
       "      <th>recall_0</th>\n",
       "      <th>recall_1</th>\n",
       "      <th>f1_0</th>\n",
       "      <th>f1_1</th>\n",
       "      <th>macro_avg_precision</th>\n",
       "      <th>macro_avg_recall</th>\n",
       "      <th>macro_avg_f1</th>\n",
       "      <th>accuracy</th>\n",
       "    </tr>\n",
       "  </thead>\n",
       "  <tbody>\n",
       "    <tr>\n",
       "      <th>SVM</th>\n",
       "      <td>0.95</td>\n",
       "      <td>0.78</td>\n",
       "      <td>0.68</td>\n",
       "      <td>0.97</td>\n",
       "      <td>0.79</td>\n",
       "      <td>0.86</td>\n",
       "      <td>0.87</td>\n",
       "      <td>0.82</td>\n",
       "      <td>0.83</td>\n",
       "      <td>0.84</td>\n",
       "    </tr>\n",
       "  </tbody>\n",
       "</table>\n",
       "</div>"
      ],
      "text/plain": [
       "     precision_0  precision_1  recall_0  recall_1  f1_0  f1_1  \\\n",
       "SVM         0.95         0.78      0.68      0.97  0.79  0.86   \n",
       "\n",
       "     macro_avg_precision  macro_avg_recall  macro_avg_f1  accuracy  \n",
       "SVM                 0.87              0.82          0.83      0.84  "
      ]
     },
     "execution_count": 35,
     "metadata": {},
     "output_type": "execute_result"
    }
   ],
   "source": [
    "svm_evaluation = evaluate_model(best_svm, X_test, y_test, 'SVM')\n",
    "svm_evaluation"
   ]
  },
  {
   "cell_type": "code",
   "execution_count": 36,
   "id": "16bf9cd9-d218-4836-8b10-02125543a897",
   "metadata": {},
   "outputs": [
    {
     "data": {
      "text/html": [
       "<div>\n",
       "<style scoped>\n",
       "    .dataframe tbody tr th:only-of-type {\n",
       "        vertical-align: middle;\n",
       "    }\n",
       "\n",
       "    .dataframe tbody tr th {\n",
       "        vertical-align: top;\n",
       "    }\n",
       "\n",
       "    .dataframe thead th {\n",
       "        text-align: right;\n",
       "    }\n",
       "</style>\n",
       "<table border=\"1\" class=\"dataframe\">\n",
       "  <thead>\n",
       "    <tr style=\"text-align: right;\">\n",
       "      <th></th>\n",
       "      <th>precision_0</th>\n",
       "      <th>precision_1</th>\n",
       "      <th>recall_0</th>\n",
       "      <th>recall_1</th>\n",
       "      <th>f1_0</th>\n",
       "      <th>f1_1</th>\n",
       "      <th>macro_avg_precision</th>\n",
       "      <th>macro_avg_recall</th>\n",
       "      <th>macro_avg_f1</th>\n",
       "      <th>accuracy</th>\n",
       "    </tr>\n",
       "  </thead>\n",
       "  <tbody>\n",
       "    <tr>\n",
       "      <th>SVM</th>\n",
       "      <td>0.95</td>\n",
       "      <td>0.78</td>\n",
       "      <td>0.68</td>\n",
       "      <td>0.97</td>\n",
       "      <td>0.79</td>\n",
       "      <td>0.86</td>\n",
       "      <td>0.87</td>\n",
       "      <td>0.82</td>\n",
       "      <td>0.83</td>\n",
       "      <td>0.84</td>\n",
       "    </tr>\n",
       "    <tr>\n",
       "      <th>RF</th>\n",
       "      <td>0.88</td>\n",
       "      <td>0.81</td>\n",
       "      <td>0.75</td>\n",
       "      <td>0.91</td>\n",
       "      <td>0.81</td>\n",
       "      <td>0.86</td>\n",
       "      <td>0.84</td>\n",
       "      <td>0.83</td>\n",
       "      <td>0.83</td>\n",
       "      <td>0.84</td>\n",
       "    </tr>\n",
       "    <tr>\n",
       "      <th>KNN</th>\n",
       "      <td>0.79</td>\n",
       "      <td>0.84</td>\n",
       "      <td>0.82</td>\n",
       "      <td>0.82</td>\n",
       "      <td>0.81</td>\n",
       "      <td>0.83</td>\n",
       "      <td>0.82</td>\n",
       "      <td>0.82</td>\n",
       "      <td>0.82</td>\n",
       "      <td>0.82</td>\n",
       "    </tr>\n",
       "    <tr>\n",
       "      <th>DT</th>\n",
       "      <td>0.73</td>\n",
       "      <td>0.74</td>\n",
       "      <td>0.68</td>\n",
       "      <td>0.79</td>\n",
       "      <td>0.70</td>\n",
       "      <td>0.76</td>\n",
       "      <td>0.74</td>\n",
       "      <td>0.73</td>\n",
       "      <td>0.73</td>\n",
       "      <td>0.74</td>\n",
       "    </tr>\n",
       "  </tbody>\n",
       "</table>\n",
       "</div>"
      ],
      "text/plain": [
       "     precision_0  precision_1  recall_0  recall_1  f1_0  f1_1  \\\n",
       "SVM         0.95         0.78      0.68      0.97  0.79  0.86   \n",
       "RF          0.88         0.81      0.75      0.91  0.81  0.86   \n",
       "KNN         0.79         0.84      0.82      0.82  0.81  0.83   \n",
       "DT          0.73         0.74      0.68      0.79  0.70  0.76   \n",
       "\n",
       "     macro_avg_precision  macro_avg_recall  macro_avg_f1  accuracy  \n",
       "SVM                 0.87              0.82          0.83      0.84  \n",
       "RF                  0.84              0.83          0.83      0.84  \n",
       "KNN                 0.82              0.82          0.82      0.82  \n",
       "DT                  0.74              0.73          0.73      0.74  "
      ]
     },
     "execution_count": 36,
     "metadata": {},
     "output_type": "execute_result"
    }
   ],
   "source": [
    "# Concatenate the dataframes\n",
    "all_evaluations = [dt_evaluation, rf_evaluation, knn_evaluation, svm_evaluation]\n",
    "results = pd.concat(all_evaluations)\n",
    "\n",
    "# Sort by 'recall_1'\n",
    "results = results.sort_values(by='recall_1', ascending=False).round(2)\n",
    "results"
   ]
  },
  {
   "cell_type": "code",
   "execution_count": 37,
   "id": "5ab23a59-d269-4e31-89ca-96bde8088b5a",
   "metadata": {},
   "outputs": [
    {
     "name": "stdout",
     "output_type": "stream",
     "text": [
      "Prediction: 0\n"
     ]
    }
   ],
   "source": [
    "import pandas as pd\n",
    "import numpy as np\n",
    "\n",
    "def predict_heart_disease(input_data, model=best_knn):\n",
    "\n",
    "    # Create a DataFrame from the input data\n",
    "    input_knn = pd.DataFrame([input_data], columns=['age', 'sex', 'cp', 'trestbps', 'chol', 'fbs', 'restecg',\n",
    "                                                   'thalach', 'exang', 'oldpeak', 'slope', 'ca', 'thal'])\n",
    "\n",
    "    # Apply one-hot encoding\n",
    "    input_encoded = pd.get_dummies(input_knn, columns=['cp', 'restecg', 'thal'], drop_first=True)\n",
    "\n",
    "    # Get missing columns in input_encoded compared to X_train\n",
    "    missing_cols = set(X_train.columns) - set(input_encoded.columns)\n",
    "\n",
    "    # Add missing columns with 0 values to input_encoded\n",
    "    for col in missing_cols:\n",
    "        input_encoded[col] = 0\n",
    "\n",
    "    # Reorder columns to match the training data\n",
    "    input_encoded = input_encoded[X_train.columns]\n",
    "\n",
    "    # Make the prediction\n",
    "    prediction = model.predict(input_encoded)\n",
    "\n",
    "    # Return the prediction (0 or 1)\n",
    "    return prediction[0]\n",
    "\n",
    "# User input\n",
    "user_input = [64,1,0,120,246,0,0,96,1,2.2,0,1,2]  # example input\n",
    "\n",
    "# Predict and print the result\n",
    "prediction = predict_heart_disease(user_input)\n",
    "print(f\"Prediction: {prediction}\")  # Output: 0 or 1"
   ]
  },
  {
   "cell_type": "code",
   "execution_count": 39,
   "id": "38cf4283-7884-4832-9661-eeb9cbf5ca41",
   "metadata": {},
   "outputs": [
    {
     "name": "stdout",
     "output_type": "stream",
     "text": [
      "Model saved \n"
     ]
    }
   ],
   "source": [
    "import pickle\n",
    "\n",
    "# Save the model to a file\n",
    "with open('Cardio.pkl', 'wb') as file:\n",
    "    pickle.dump(best_knn, file)\n",
    "\n",
    "print(\"Model saved \")\n"
   ]
  },
  {
   "cell_type": "code",
   "execution_count": null,
   "id": "90005f3e-3498-4e6c-b004-b472e080ae0f",
   "metadata": {},
   "outputs": [],
   "source": []
  }
 ],
 "metadata": {
  "kernelspec": {
   "display_name": "Python 3 (ipykernel)",
   "language": "python",
   "name": "python3"
  },
  "language_info": {
   "codemirror_mode": {
    "name": "ipython",
    "version": 3
   },
   "file_extension": ".py",
   "mimetype": "text/x-python",
   "name": "python",
   "nbconvert_exporter": "python",
   "pygments_lexer": "ipython3",
   "version": "3.12.7"
  }
 },
 "nbformat": 4,
 "nbformat_minor": 5
}
